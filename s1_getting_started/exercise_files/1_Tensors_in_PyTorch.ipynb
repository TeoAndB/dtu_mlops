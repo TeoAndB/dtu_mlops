{
 "cells": [
  {
   "cell_type": "markdown",
   "metadata": {},
   "source": [
    "# Introduction to Deep Learning with PyTorch\n",
    "\n",
    "In this notebook, you will get an introduction to [PyTorch](http://pytorch.org/), which is a framework for building and training neural networks (NN). ``PyTorch`` in a lot of ways behaves like the arrays you know and love from Numpy. These Numpy arrays, after all, are just *tensors*. PyTorch takes these tensors and makes it simple to move them to GPUs for the faster processing needed when training neural networks. It also provides a module that automatically calculates gradients (for backpropagation!) and another module specifically for building neural networks. All together, PyTorch ends up being more coherent with **Python** and the ``Numpy/Scipy`` stack compared to *TensorFlow* and other frameworks.\n",
    "\n"
   ]
  },
  {
   "cell_type": "markdown",
   "metadata": {},
   "source": [
    "## Neural Networks\n",
    "\n",
    "Deep Learning is based on artificial neural networks which have been around in some form since the late 1950s. The networks are built from individual parts approximating neurons, typically called units or simply \"neurons.\" Each unit has some number of weighted inputs. These weighted inputs are summed together (a linear combination) then passed through an activation function to get the unit's output.\n",
    "\n",
    "<img src=\"assets/simple_neuron.png\" width=400px>\n",
    "\n",
    "Mathematically this looks like: \n",
    "\n",
    "$$\n",
    "\\begin{align}\n",
    "y &= f(w_1 x_1 + w_2 x_2 + b) \\\\\n",
    "y &= f\\left(\\sum_i w_i x_i +b \\right)\n",
    "\\end{align}\n",
    "$$\n",
    "\n",
    "With vectors this is the dot/inner product of two vectors:\n",
    "\n",
    "$$\n",
    "h = \\begin{bmatrix}\n",
    "x_1 \\, x_2 \\cdots  x_n\n",
    "\\end{bmatrix}\n",
    "\\cdot \n",
    "\\begin{bmatrix}\n",
    "           w_1 \\\\\n",
    "           w_2 \\\\\n",
    "           \\vdots \\\\\n",
    "           w_n\n",
    "\\end{bmatrix}\n",
    "$$"
   ]
  },
  {
   "cell_type": "markdown",
   "metadata": {},
   "source": [
    "## Tensors\n",
    "\n",
    "It turns out neural network computations are just a bunch of linear algebra operations on *tensors*, a generalization of matrices. A vector is a 1-dimensional tensor, a matrix is a 2-dimensional tensor, an array with three indices is a 3-dimensional tensor (RGB color images for example). The fundamental data structure for neural networks are tensors and PyTorch (as well as pretty much every other deep learning framework) is built around tensors.\n",
    "\n",
    "<img src=\"assets/tensor_examples.svg\" width=600px>\n",
    "\n",
    "With the basics covered, it's time to explore how we can use PyTorch to build a simple neural network.\n"
   ]
  },
  {
   "cell_type": "code",
   "execution_count": 2,
   "outputs": [
    {
     "name": "stdout",
     "output_type": "stream",
     "text": [
      "Collecting torch==1.10.1\r\n",
      "  Downloading torch-1.10.1-cp38-cp38-manylinux1_x86_64.whl (881.9 MB)\r\n",
      "\u001B[K     |████████████████████████████████| 881.9 MB 19 kB/s  eta 0:00:01     |█████                           | 138.9 MB 681 kB/s eta 0:18:10     |██████████████▊                 | 404.2 MB 695 kB/s eta 0:11:28     |███████████████████▋            | 540.2 MB 567 kB/s eta 0:10:03     |███████████████████████████▏    | 748.1 MB 792 kB/s eta 0:02:49     |█████████████████████████████▌  | 812.9 MB 694 kB/s eta 0:01:40     |███████████████████████████████▍| 864.7 MB 595 kB/s eta 0:00:29\r\n",
      "\u001B[?25hCollecting typing-extensions\r\n",
      "  Downloading typing_extensions-4.0.1-py3-none-any.whl (22 kB)\r\n",
      "Installing collected packages: typing-extensions, torch\r\n",
      "Successfully installed torch-1.10.1 typing-extensions-4.0.1\r\n",
      "\u001B[33mWARNING: You are using pip version 21.1.2; however, version 21.3.1 is available.\r\n",
      "You should consider upgrading via the '/home/teodora/Documents/DTU/ML_Operations/dtu_mlops/venv/bin/python -m pip install --upgrade pip' command.\u001B[0m\r\n",
      "Collecting matplotlib==3.5.0\r\n",
      "  Using cached matplotlib-3.5.0-cp38-cp38-manylinux_2_5_x86_64.manylinux1_x86_64.whl (11.3 MB)\r\n",
      "Collecting setuptools-scm>=4\r\n",
      "  Using cached setuptools_scm-6.3.2-py3-none-any.whl (33 kB)\r\n",
      "Requirement already satisfied: python-dateutil>=2.7 in /home/teodora/Documents/DTU/ML_Operations/dtu_mlops/venv/lib/python3.8/site-packages (from matplotlib==3.5.0) (2.8.2)\r\n",
      "Requirement already satisfied: packaging>=20.0 in /home/teodora/Documents/DTU/ML_Operations/dtu_mlops/venv/lib/python3.8/site-packages (from matplotlib==3.5.0) (21.3)\r\n",
      "Collecting fonttools>=4.22.0\r\n",
      "  Downloading fonttools-4.28.5-py3-none-any.whl (890 kB)\r\n",
      "\u001B[K     |████████████████████████████████| 890 kB 660 kB/s eta 0:00:01\r\n",
      "\u001B[?25hCollecting numpy>=1.17\r\n",
      "  Downloading numpy-1.22.0-cp38-cp38-manylinux_2_17_x86_64.manylinux2014_x86_64.whl (16.8 MB)\r\n",
      "\u001B[K     |████████████████████████████████| 16.8 MB 758 kB/s eta 0:00:01\r\n",
      "\u001B[?25hCollecting kiwisolver>=1.0.1\r\n",
      "  Using cached kiwisolver-1.3.2-cp38-cp38-manylinux_2_5_x86_64.manylinux1_x86_64.whl (1.2 MB)\r\n",
      "Collecting pillow>=6.2.0\r\n",
      "  Using cached Pillow-9.0.0-cp38-cp38-manylinux_2_17_x86_64.manylinux2014_x86_64.whl (4.3 MB)\r\n",
      "Collecting cycler>=0.10\r\n",
      "  Using cached cycler-0.11.0-py3-none-any.whl (6.4 kB)\r\n",
      "Requirement already satisfied: pyparsing>=2.2.1 in /home/teodora/Documents/DTU/ML_Operations/dtu_mlops/venv/lib/python3.8/site-packages (from matplotlib==3.5.0) (3.0.6)\r\n",
      "Requirement already satisfied: six>=1.5 in /home/teodora/Documents/DTU/ML_Operations/dtu_mlops/venv/lib/python3.8/site-packages (from python-dateutil>=2.7->matplotlib==3.5.0) (1.16.0)\r\n",
      "Requirement already satisfied: setuptools in /home/teodora/Documents/DTU/ML_Operations/dtu_mlops/venv/lib/python3.8/site-packages (from setuptools-scm>=4->matplotlib==3.5.0) (57.0.0)\r\n",
      "Collecting tomli>=1.0.0\r\n",
      "  Downloading tomli-2.0.0-py3-none-any.whl (12 kB)\r\n",
      "Installing collected packages: tomli, setuptools-scm, pillow, numpy, kiwisolver, fonttools, cycler, matplotlib\r\n",
      "Successfully installed cycler-0.11.0 fonttools-4.28.5 kiwisolver-1.3.2 matplotlib-3.5.0 numpy-1.22.0 pillow-9.0.0 setuptools-scm-6.3.2 tomli-2.0.0\r\n",
      "\u001B[33mWARNING: You are using pip version 21.1.2; however, version 21.3.1 is available.\r\n",
      "You should consider upgrading via the '/home/teodora/Documents/DTU/ML_Operations/dtu_mlops/venv/bin/python -m pip install --upgrade pip' command.\u001B[0m\r\n",
      "Collecting numpy==1.21.4\r\n",
      "  Using cached numpy-1.21.4-cp38-cp38-manylinux_2_12_x86_64.manylinux2010_x86_64.whl (15.7 MB)\r\n",
      "Installing collected packages: numpy\r\n",
      "  Attempting uninstall: numpy\r\n",
      "    Found existing installation: numpy 1.22.0\r\n",
      "    Uninstalling numpy-1.22.0:\r\n",
      "      Successfully uninstalled numpy-1.22.0\r\n",
      "Successfully installed numpy-1.21.4\r\n",
      "\u001B[33mWARNING: You are using pip version 21.1.2; however, version 21.3.1 is available.\r\n",
      "You should consider upgrading via the '/home/teodora/Documents/DTU/ML_Operations/dtu_mlops/venv/bin/python -m pip install --upgrade pip' command.\u001B[0m\r\n",
      "Collecting omegaconf==2.1.1\r\n",
      "  Using cached omegaconf-2.1.1-py3-none-any.whl (74 kB)\r\n",
      "Collecting PyYAML>=5.1.0\r\n",
      "  Downloading PyYAML-6.0-cp38-cp38-manylinux_2_5_x86_64.manylinux1_x86_64.manylinux_2_12_x86_64.manylinux2010_x86_64.whl (701 kB)\r\n",
      "\u001B[K     |████████████████████████████████| 701 kB 579 kB/s eta 0:00:01\r\n",
      "\u001B[?25hCollecting antlr4-python3-runtime==4.8\r\n",
      "  Downloading antlr4-python3-runtime-4.8.tar.gz (112 kB)\r\n",
      "\u001B[K     |████████████████████████████████| 112 kB 611 kB/s eta 0:00:01\r\n",
      "\u001B[?25hBuilding wheels for collected packages: antlr4-python3-runtime\r\n",
      "  Building wheel for antlr4-python3-runtime (setup.py) ... \u001B[?25l-\b \b\\\b \bdone\r\n",
      "\u001B[?25h  Created wheel for antlr4-python3-runtime: filename=antlr4_python3_runtime-4.8-py3-none-any.whl size=141229 sha256=7901de496de0bc9e55feea622cb1b2fd42372059a76bf1108e242008c77c9f8e\r\n",
      "  Stored in directory: /home/teodora/.cache/pip/wheels/c8/d0/ab/d43c02eaddc5b9004db86950802442ad9a26f279c619e28da0\r\n",
      "Successfully built antlr4-python3-runtime\r\n",
      "Installing collected packages: PyYAML, antlr4-python3-runtime, omegaconf\r\n",
      "Successfully installed PyYAML-6.0 antlr4-python3-runtime-4.8 omegaconf-2.1.1\r\n",
      "\u001B[33mWARNING: You are using pip version 21.1.2; however, version 21.3.1 is available.\r\n",
      "You should consider upgrading via the '/home/teodora/Documents/DTU/ML_Operations/dtu_mlops/venv/bin/python -m pip install --upgrade pip' command.\u001B[0m\r\n",
      "Collecting optuna==2.10.0\r\n",
      "  Using cached optuna-2.10.0-py3-none-any.whl (308 kB)\r\n",
      "Collecting colorlog\r\n",
      "  Downloading colorlog-6.6.0-py2.py3-none-any.whl (11 kB)\r\n",
      "Requirement already satisfied: packaging>=20.0 in /home/teodora/Documents/DTU/ML_Operations/dtu_mlops/venv/lib/python3.8/site-packages (from optuna==2.10.0) (21.3)\r\n",
      "Requirement already satisfied: numpy in /home/teodora/Documents/DTU/ML_Operations/dtu_mlops/venv/lib/python3.8/site-packages (from optuna==2.10.0) (1.21.4)\r\n",
      "Collecting alembic\r\n",
      "  Downloading alembic-1.7.5-py3-none-any.whl (209 kB)\r\n",
      "\u001B[K     |████████████████████████████████| 209 kB 658 kB/s eta 0:00:01\r\n",
      "\u001B[?25hCollecting tqdm\r\n",
      "  Using cached tqdm-4.62.3-py2.py3-none-any.whl (76 kB)\r\n",
      "Collecting cmaes>=0.8.2\r\n",
      "  Downloading cmaes-0.8.2-py3-none-any.whl (15 kB)\r\n",
      "Collecting sqlalchemy>=1.1.0\r\n",
      "  Downloading SQLAlchemy-1.4.29-cp38-cp38-manylinux_2_5_x86_64.manylinux1_x86_64.manylinux_2_17_x86_64.manylinux2014_x86_64.whl (1.6 MB)\r\n",
      "\u001B[K     |████████████████████████████████| 1.6 MB 548 kB/s eta 0:00:01\r\n",
      "\u001B[?25hRequirement already satisfied: PyYAML in /home/teodora/Documents/DTU/ML_Operations/dtu_mlops/venv/lib/python3.8/site-packages (from optuna==2.10.0) (6.0)\r\n",
      "Collecting cliff\r\n",
      "  Downloading cliff-3.10.0-py3-none-any.whl (80 kB)\r\n",
      "\u001B[K     |████████████████████████████████| 80 kB 665 kB/s eta 0:00:01\r\n",
      "\u001B[?25hCollecting scipy!=1.4.0\r\n",
      "  Using cached scipy-1.7.3-cp38-cp38-manylinux_2_17_x86_64.manylinux2014_x86_64.whl (39.3 MB)\r\n",
      "Requirement already satisfied: pyparsing!=3.0.5,>=2.0.2 in /home/teodora/Documents/DTU/ML_Operations/dtu_mlops/venv/lib/python3.8/site-packages (from packaging>=20.0->optuna==2.10.0) (3.0.6)\r\n",
      "Collecting greenlet!=0.4.17\r\n",
      "  Downloading greenlet-1.1.2-cp38-cp38-manylinux_2_17_x86_64.manylinux2014_x86_64.whl (156 kB)\r\n",
      "\u001B[K     |████████████████████████████████| 156 kB 623 kB/s eta 0:00:01\r\n",
      "\u001B[?25hCollecting importlib-metadata\r\n",
      "  Downloading importlib_metadata-4.10.0-py3-none-any.whl (17 kB)\r\n",
      "Collecting Mako\r\n",
      "  Downloading Mako-1.1.6-py2.py3-none-any.whl (75 kB)\r\n",
      "\u001B[K     |████████████████████████████████| 75 kB 676 kB/s eta 0:00:01\r\n",
      "\u001B[?25hRequirement already satisfied: importlib-resources in /home/teodora/Documents/DTU/ML_Operations/dtu_mlops/venv/lib/python3.8/site-packages (from alembic->optuna==2.10.0) (5.4.0)\r\n",
      "Collecting stevedore>=2.0.1\r\n",
      "  Downloading stevedore-3.5.0-py3-none-any.whl (49 kB)\r\n",
      "\u001B[K     |████████████████████████████████| 49 kB 713 kB/s eta 0:00:01\r\n",
      "\u001B[?25hCollecting pbr!=2.1.0,>=2.0.0\r\n",
      "  Downloading pbr-5.8.0-py2.py3-none-any.whl (112 kB)\r\n",
      "\u001B[K     |████████████████████████████████| 112 kB 638 kB/s eta 0:00:01\r\n",
      "\u001B[?25hCollecting PrettyTable>=0.7.2\r\n",
      "  Downloading prettytable-2.5.0-py3-none-any.whl (24 kB)\r\n",
      "Collecting autopage>=0.4.0\r\n",
      "  Downloading autopage-0.4.0-py3-none-any.whl (20 kB)\r\n",
      "Collecting cmd2>=1.0.0\r\n",
      "  Downloading cmd2-2.3.3-py3-none-any.whl (149 kB)\r\n",
      "\u001B[K     |████████████████████████████████| 149 kB 654 kB/s eta 0:00:01\r\n",
      "\u001B[?25hRequirement already satisfied: attrs>=16.3.0 in /home/teodora/Documents/DTU/ML_Operations/dtu_mlops/venv/lib/python3.8/site-packages (from cmd2>=1.0.0->cliff->optuna==2.10.0) (21.4.0)\r\n",
      "Requirement already satisfied: wcwidth>=0.1.7 in /home/teodora/Documents/DTU/ML_Operations/dtu_mlops/venv/lib/python3.8/site-packages (from cmd2>=1.0.0->cliff->optuna==2.10.0) (0.2.5)\r\n",
      "Collecting pyperclip>=1.6\r\n",
      "  Downloading pyperclip-1.8.2.tar.gz (20 kB)\r\n",
      "Requirement already satisfied: zipp>=0.5 in /home/teodora/Documents/DTU/ML_Operations/dtu_mlops/venv/lib/python3.8/site-packages (from importlib-metadata->alembic->optuna==2.10.0) (3.7.0)\r\n",
      "Requirement already satisfied: MarkupSafe>=0.9.2 in /home/teodora/Documents/DTU/ML_Operations/dtu_mlops/venv/lib/python3.8/site-packages (from Mako->alembic->optuna==2.10.0) (2.0.1)\r\n",
      "Building wheels for collected packages: pyperclip\r\n",
      "  Building wheel for pyperclip (setup.py) ... \u001B[?25l-\b \bdone\r\n",
      "\u001B[?25h  Created wheel for pyperclip: filename=pyperclip-1.8.2-py3-none-any.whl size=11137 sha256=700ece4f87e622b7374a88275c2ef94a472dd23fe3a8e7ad9613c953d821ff20\r\n",
      "  Stored in directory: /home/teodora/.cache/pip/wheels/7f/1a/65/84ff8c386bec21fca6d220ea1f5498a0367883a78dd5ba6122\r\n",
      "Successfully built pyperclip\r\n",
      "Installing collected packages: pyperclip, pbr, greenlet, stevedore, sqlalchemy, PrettyTable, Mako, importlib-metadata, cmd2, autopage, tqdm, scipy, colorlog, cmaes, cliff, alembic, optuna\r\n",
      "Successfully installed Mako-1.1.6 PrettyTable-2.5.0 alembic-1.7.5 autopage-0.4.0 cliff-3.10.0 cmaes-0.8.2 cmd2-2.3.3 colorlog-6.6.0 greenlet-1.1.2 importlib-metadata-4.10.0 optuna-2.10.0 pbr-5.8.0 pyperclip-1.8.2 scipy-1.7.3 sqlalchemy-1.4.29 stevedore-3.5.0 tqdm-4.62.3\r\n",
      "\u001B[33mWARNING: You are using pip version 21.1.2; however, version 21.3.1 is available.\r\n",
      "You should consider upgrading via the '/home/teodora/Documents/DTU/ML_Operations/dtu_mlops/venv/bin/python -m pip install --upgrade pip' command.\u001B[0m\r\n",
      "Requirement already satisfied: Pillow==9.0.0 in /home/teodora/Documents/DTU/ML_Operations/dtu_mlops/venv/lib/python3.8/site-packages (9.0.0)\r\n",
      "\u001B[33mWARNING: You are using pip version 21.1.2; however, version 21.3.1 is available.\r\n",
      "You should consider upgrading via the '/home/teodora/Documents/DTU/ML_Operations/dtu_mlops/venv/bin/python -m pip install --upgrade pip' command.\u001B[0m\r\n",
      "Collecting scikit_learn==1.0.2\r\n",
      "  Using cached scikit_learn-1.0.2-cp38-cp38-manylinux_2_17_x86_64.manylinux2014_x86_64.whl (26.7 MB)\r\n",
      "Collecting joblib>=0.11\r\n",
      "  Using cached joblib-1.1.0-py2.py3-none-any.whl (306 kB)\r\n",
      "Requirement already satisfied: numpy>=1.14.6 in /home/teodora/Documents/DTU/ML_Operations/dtu_mlops/venv/lib/python3.8/site-packages (from scikit_learn==1.0.2) (1.21.4)\r\n",
      "Requirement already satisfied: scipy>=1.1.0 in /home/teodora/Documents/DTU/ML_Operations/dtu_mlops/venv/lib/python3.8/site-packages (from scikit_learn==1.0.2) (1.7.3)\r\n",
      "Collecting threadpoolctl>=2.0.0\r\n",
      "  Downloading threadpoolctl-3.0.0-py3-none-any.whl (14 kB)\r\n",
      "Installing collected packages: threadpoolctl, joblib, scikit-learn\r\n",
      "Successfully installed joblib-1.1.0 scikit-learn-1.0.2 threadpoolctl-3.0.0\r\n",
      "\u001B[33mWARNING: You are using pip version 21.1.2; however, version 21.3.1 is available.\r\n",
      "You should consider upgrading via the '/home/teodora/Documents/DTU/ML_Operations/dtu_mlops/venv/bin/python -m pip install --upgrade pip' command.\u001B[0m\r\n",
      "Collecting torchvision==0.11.2\r\n",
      "  Downloading torchvision-0.11.2-cp38-cp38-manylinux1_x86_64.whl (23.3 MB)\r\n",
      "\u001B[K     |████████████████████████████████| 23.3 MB 725 kB/s eta 0:00:01\r\n",
      "\u001B[?25hRequirement already satisfied: torch==1.10.1 in /home/teodora/Documents/DTU/ML_Operations/dtu_mlops/venv/lib/python3.8/site-packages (from torchvision==0.11.2) (1.10.1)\r\n",
      "Requirement already satisfied: numpy in /home/teodora/Documents/DTU/ML_Operations/dtu_mlops/venv/lib/python3.8/site-packages (from torchvision==0.11.2) (1.21.4)\r\n",
      "Requirement already satisfied: pillow!=8.3.0,>=5.3.0 in /home/teodora/Documents/DTU/ML_Operations/dtu_mlops/venv/lib/python3.8/site-packages (from torchvision==0.11.2) (9.0.0)\r\n",
      "Requirement already satisfied: typing-extensions in /home/teodora/Documents/DTU/ML_Operations/dtu_mlops/venv/lib/python3.8/site-packages (from torch==1.10.1->torchvision==0.11.2) (4.0.1)\r\n",
      "Installing collected packages: torchvision\r\n",
      "Successfully installed torchvision-0.11.2\r\n",
      "\u001B[33mWARNING: You are using pip version 21.1.2; however, version 21.3.1 is available.\r\n",
      "You should consider upgrading via the '/home/teodora/Documents/DTU/ML_Operations/dtu_mlops/venv/bin/python -m pip install --upgrade pip' command.\u001B[0m\r\n",
      "Collecting transformers==4.15.0\r\n",
      "  Downloading transformers-4.15.0-py3-none-any.whl (3.4 MB)\r\n",
      "\u001B[K     |████████████████████████████████| 3.4 MB 664 kB/s eta 0:00:01\r\n",
      "\u001B[?25hCollecting huggingface-hub<1.0,>=0.1.0\r\n",
      "  Downloading huggingface_hub-0.2.1-py3-none-any.whl (61 kB)\r\n",
      "\u001B[K     |████████████████████████████████| 61 kB 375 kB/s eta 0:00:01\r\n",
      "\u001B[?25hRequirement already satisfied: pyyaml>=5.1 in /home/teodora/Documents/DTU/ML_Operations/dtu_mlops/venv/lib/python3.8/site-packages (from transformers==4.15.0) (6.0)\r\n",
      "Collecting filelock\r\n",
      "  Downloading filelock-3.4.2-py3-none-any.whl (9.9 kB)\r\n",
      "Collecting regex!=2019.12.17\r\n",
      "  Using cached regex-2021.11.10-cp38-cp38-manylinux_2_17_x86_64.manylinux2014_x86_64.whl (764 kB)\r\n",
      "Requirement already satisfied: numpy>=1.17 in /home/teodora/Documents/DTU/ML_Operations/dtu_mlops/venv/lib/python3.8/site-packages (from transformers==4.15.0) (1.21.4)\r\n",
      "Collecting requests\r\n",
      "  Using cached requests-2.26.0-py2.py3-none-any.whl (62 kB)\r\n",
      "Requirement already satisfied: tqdm>=4.27 in /home/teodora/Documents/DTU/ML_Operations/dtu_mlops/venv/lib/python3.8/site-packages (from transformers==4.15.0) (4.62.3)\r\n",
      "Collecting sacremoses\r\n",
      "  Downloading sacremoses-0.0.46-py3-none-any.whl (895 kB)\r\n",
      "\u001B[K     |████████████████████████████████| 895 kB 584 kB/s eta 0:00:01\r\n",
      "\u001B[?25hRequirement already satisfied: packaging>=20.0 in /home/teodora/Documents/DTU/ML_Operations/dtu_mlops/venv/lib/python3.8/site-packages (from transformers==4.15.0) (21.3)\r\n",
      "Collecting tokenizers<0.11,>=0.10.1\r\n",
      "  Downloading tokenizers-0.10.3-cp38-cp38-manylinux_2_5_x86_64.manylinux1_x86_64.manylinux_2_12_x86_64.manylinux2010_x86_64.whl (3.3 MB)\r\n",
      "\u001B[K     |████████████████████████████████| 3.3 MB 723 kB/s eta 0:00:01\r\n",
      "\u001B[?25hRequirement already satisfied: typing-extensions>=3.7.4.3 in /home/teodora/Documents/DTU/ML_Operations/dtu_mlops/venv/lib/python3.8/site-packages (from huggingface-hub<1.0,>=0.1.0->transformers==4.15.0) (4.0.1)\r\n",
      "Requirement already satisfied: pyparsing!=3.0.5,>=2.0.2 in /home/teodora/Documents/DTU/ML_Operations/dtu_mlops/venv/lib/python3.8/site-packages (from packaging>=20.0->transformers==4.15.0) (3.0.6)\r\n",
      "Collecting charset-normalizer~=2.0.0\r\n",
      "  Downloading charset_normalizer-2.0.9-py3-none-any.whl (39 kB)\r\n",
      "Collecting idna<4,>=2.5\r\n",
      "  Downloading idna-3.3-py3-none-any.whl (61 kB)\r\n",
      "\u001B[K     |████████████████████████████████| 61 kB 635 kB/s eta 0:00:01\r\n",
      "\u001B[?25hCollecting urllib3<1.27,>=1.21.1\r\n",
      "  Downloading urllib3-1.26.7-py2.py3-none-any.whl (138 kB)\r\n",
      "\u001B[K     |████████████████████████████████| 138 kB 556 kB/s eta 0:00:01\r\n",
      "\u001B[?25hCollecting certifi>=2017.4.17\r\n",
      "  Downloading certifi-2021.10.8-py2.py3-none-any.whl (149 kB)\r\n",
      "\u001B[K     |████████████████████████████████| 149 kB 638 kB/s eta 0:00:01\r\n",
      "\u001B[?25hCollecting click\r\n",
      "  Downloading click-8.0.3-py3-none-any.whl (97 kB)\r\n",
      "\u001B[K     |████████████████████████████████| 97 kB 564 kB/s eta 0:00:01\r\n",
      "\u001B[?25hRequirement already satisfied: joblib in /home/teodora/Documents/DTU/ML_Operations/dtu_mlops/venv/lib/python3.8/site-packages (from sacremoses->transformers==4.15.0) (1.1.0)\r\n",
      "Requirement already satisfied: six in /home/teodora/Documents/DTU/ML_Operations/dtu_mlops/venv/lib/python3.8/site-packages (from sacremoses->transformers==4.15.0) (1.16.0)\r\n",
      "Installing collected packages: urllib3, idna, charset-normalizer, certifi, requests, regex, filelock, click, tokenizers, sacremoses, huggingface-hub, transformers\r\n",
      "Successfully installed certifi-2021.10.8 charset-normalizer-2.0.9 click-8.0.3 filelock-3.4.2 huggingface-hub-0.2.1 idna-3.3 regex-2021.11.10 requests-2.26.0 sacremoses-0.0.46 tokenizers-0.10.3 transformers-4.15.0 urllib3-1.26.7\r\n",
      "\u001B[33mWARNING: You are using pip version 21.1.2; however, version 21.3.1 is available.\r\n",
      "You should consider upgrading via the '/home/teodora/Documents/DTU/ML_Operations/dtu_mlops/venv/bin/python -m pip install --upgrade pip' command.\u001B[0m\r\n"
     ]
    }
   ],
   "source": [
    "# First, import PyTorch\n",
    "!pip install torch==1.10.1\n",
    "!pip install matplotlib==3.5.0\n",
    "!pip install numpy==1.21.4\n",
    "!pip install omegaconf==2.1.1\n",
    "!pip install optuna==2.10.0\n",
    "!pip install Pillow==9.0.0\n",
    "!pip install scikit_learn==1.0.2\n",
    "!pip install torchvision==0.11.2\n",
    "!pip install transformers==4.15.0"
   ],
   "metadata": {
    "collapsed": false,
    "pycharm": {
     "name": "#%%\n"
    }
   }
  },
  {
   "cell_type": "code",
   "execution_count": 4,
   "outputs": [],
   "source": [
    "# First, import PyTorch\n",
    "import torch"
   ],
   "metadata": {
    "collapsed": false,
    "pycharm": {
     "name": "#%%\n"
    }
   }
  },
  {
   "cell_type": "code",
   "execution_count": 5,
   "metadata": {},
   "outputs": [],
   "source": [
    "def activation(x):\n",
    "    \"\"\" Sigmoid activation function \n",
    "    \n",
    "        Arguments\n",
    "        ---------\n",
    "        x: torch.Tensor\n",
    "    \"\"\"\n",
    "    return 1/(1+torch.exp(-x))"
   ]
  },
  {
   "cell_type": "code",
   "execution_count": 9,
   "metadata": {},
   "outputs": [
    {
     "name": "stdout",
     "output_type": "stream",
     "text": [
      "tensor([[0.3177]])\n"
     ]
    }
   ],
   "source": [
    "### Generate some data\n",
    "torch.manual_seed(7) # Set the random seed so things are predictable\n",
    "\n",
    "# Features are 5 random normal variables\n",
    "features = torch.randn((1, 5))\n",
    "# True weights for our data, random normal variables again\n",
    "weights = torch.randn_like(features)\n",
    "# and a true bias term\n",
    "bias = torch.randn((1, 1))\n",
    "print(bias)"
   ]
  },
  {
   "cell_type": "markdown",
   "metadata": {},
   "source": [
    "Above I generated data we can use to get the output of our simple network. This is all just random for now, going forward we'll start using normal data. Going through each relevant line:\n",
    "\n",
    "`features = torch.randn((1, 5))` creates a tensor with shape `(1, 5)`, one row and five columns, that contains values randomly distributed according to the normal distribution with a mean of zero and standard deviation of one. \n",
    "\n",
    "`weights = torch.randn_like(features)` creates another tensor with the same shape as `features`, again containing values from a normal distribution.\n",
    "\n",
    "Finally, `bias = torch.randn((1, 1))` creates a single value from a normal distribution.\n",
    "\n",
    "PyTorch tensors can be added, multiplied, subtracted, etc, just like Numpy arrays. In general, you'll use PyTorch tensors pretty much the same way you'd use Numpy arrays. They come with some nice benefits though such as GPU acceleration which we'll get to later. For now, use the generated data to calculate the output of this simple single layer network. \n",
    "> **Exercise**: Calculate the output of the network with input features `features`, weights `weights`, and bias `bias`. Similar to Numpy, PyTorch has a [`torch.sum()`](https://pytorch.org/docs/stable/torch.html#torch.sum) function, as well as a `.sum()` method on tensors, for taking sums. Use the function `activation` defined above as the activation function."
   ]
  },
  {
   "cell_type": "code",
   "execution_count": 7,
   "metadata": {},
   "outputs": [],
   "source": [
    "## Calculate the output of this network using the weights and bias tensors\n"
   ]
  },
  {
   "cell_type": "markdown",
   "metadata": {},
   "source": [
    "You can do the multiplication and sum in the same operation using a matrix multiplication. In general, you'll want to use matrix multiplications since they are more efficient and accelerated using modern libraries and high-performance computing on GPUs.\n",
    "\n",
    "Here, we want to do a matrix multiplication of the features and the weights. For this we can use [`torch.mm()`](https://pytorch.org/docs/stable/torch.html#torch.mm) or [`torch.matmul()`](https://pytorch.org/docs/stable/torch.html#torch.matmul) which is somewhat more complicated and supports broadcasting. If we try to do it with `features` and `weights` as they are, we'll get an error\n",
    "\n",
    "```python\n",
    ">> torch.mm(features, weights)\n",
    "\n",
    "---------------------------------------------------------------------------\n",
    "RuntimeError                              Traceback (most recent call last)\n",
    "<ipython-input-13-15d592eb5279> in <module>()\n",
    "----> 1 torch.mm(features, weights)\n",
    "\n",
    "RuntimeError: size mismatch, m1: [1 x 5], m2: [1 x 5] at /Users/soumith/minicondabuild3/conda-bld/pytorch_1524590658547/work/aten/src/TH/generic/THTensorMath.c:2033\n",
    "```\n",
    "\n",
    "As you're building neural networks in any framework, you'll see this often. Really often. What's happening here is our tensors aren't the correct shapes to perform a matrix multiplication. Remember that for matrix multiplications, the number of columns in the first tensor must equal to the number of rows in the second tensor. Both `features` and `weights` have the same shape, `(1, 5)`. This means we need to change the shape of `weights` to get the matrix multiplication to work.\n",
    "\n",
    "**Note:** To see the shape of a tensor called `tensor`, use `tensor.shape`. If you're building neural networks, you'll be using this method often.\n",
    "\n",
    "There are a few options here: [`weights.reshape()`](https://pytorch.org/docs/stable/tensors.html#torch.Tensor.reshape), [`weights.resize_()`](https://pytorch.org/docs/stable/tensors.html#torch.Tensor.resize_), [`weights.view()`](https://pytorch.org/docs/stable/tensors.html#torch.Tensor.view) and [`torch.transpose(weights,0,1)`](https://pytorch.org/docs/master/generated/torch.transpose.html).\n",
    "\n",
    "* `weights.reshape(a, b)` will return a new tensor with the same data as `weights` with size `(a, b)` sometimes, and sometimes a clone, as in it copies the data to another part of memory.\n",
    "* `weights.resize_(a, b)` returns the same tensor with a different shape. However, if the new shape results in fewer elements than the original tensor, some elements will be removed from the tensor (but not from memory). If the new shape results in more elements than the original tensor, new elements will be uninitialized in memory. Here I should note that the underscore at the end of the method denotes that this method is performed **in-place**. Here is a great forum thread to [read more about in-place operations](https://discuss.pytorch.org/t/what-is-in-place-operation/16244) in PyTorch.\n",
    "* `weights.view(a, b)` will return a new tensor with the same data as `weights` with size `(a, b)`.\n",
    "* `torch.transpose(weights,0,1)` will return transposed weights tensor. This returns transposed version of inpjut tensor along dim 0 and dim 1. This is efficient since we do not specify to actual dimesions of weights.\n",
    "\n",
    "I usually use `.view()`, but any of the three methods will work for this. So, now we can reshape `weights` to have five rows and one column with something like `weights.view(5, 1)`.\n",
    "\n",
    "One more approach is to use `.t()` to transpose vector of weights, in our case from (1,5) to (5,1) shape.\n",
    "> **Exercise**: Calculate the output of our little network using matrix multiplication."
   ]
  },
  {
   "cell_type": "code",
   "execution_count": 8,
   "metadata": {},
   "outputs": [
    {
     "name": "stdout",
     "output_type": "stream",
     "text": [
      "Hello pycharm\n"
     ]
    }
   ],
   "source": [
    "## Calculate the output of this network using matrix multiplication\n",
    "print('Hello pycharm')"
   ]
  },
  {
   "cell_type": "markdown",
   "metadata": {},
   "source": [
    "### Stack them up!\n",
    "\n",
    "That's how you can calculate the output for a single neuron. The real power of this algorithm happens when you start stacking these individual units into layers and stacks of layers, into a network of neurons. The output of one layer of neurons becomes the input for the next layer. With multiple input units and output units, we now need to express the weights as a matrix.\n",
    "\n",
    "<img src='assets/multilayer_diagram_weights.png' width=450px>\n",
    "\n",
    "The first layer shown on the bottom here are the inputs, understandably called the **input layer**. The middle layer is called the **hidden layer**, and the final layer (on the right) is the **output layer**. We can express this network mathematically with matrices again and use matrix multiplication to get linear combinations for each unit in one operation. For example, the hidden layer ($h_1$ and $h_2$ here) can be calculated \n",
    "\n",
    "$$\n",
    "\\vec{h} = [h_1 \\, h_2] = \n",
    "\\begin{bmatrix}\n",
    "x_1 \\, x_2 \\cdots \\, x_n\n",
    "\\end{bmatrix}\n",
    "\\cdot \n",
    "\\begin{bmatrix}\n",
    "           w_{11} & w_{12} \\\\\n",
    "           w_{21} &w_{22} \\\\\n",
    "           \\vdots &\\vdots \\\\\n",
    "           w_{n1} &w_{n2}\n",
    "\\end{bmatrix}\n",
    "$$\n",
    "\n",
    "The output for this small network is found by treating the hidden layer as inputs for the output unit. The network output is expressed simply\n",
    "\n",
    "$$\n",
    "y =  f_2 \\! \\left(\\, f_1 \\! \\left(\\vec{x} \\, \\mathbf{W_1}\\right) \\mathbf{W_2} \\right)\n",
    "$$"
   ]
  },
  {
   "cell_type": "code",
   "execution_count": 6,
   "metadata": {},
   "outputs": [],
   "source": [
    "### Generate some data\n",
    "torch.manual_seed(7) # Set the random seed so things are predictable\n",
    "\n",
    "# Features are 3 random normal variables\n",
    "features = torch.randn((1, 3))\n",
    "\n",
    "# Define the size of each layer in our network\n",
    "n_input = features.shape[1]     # Number of input units, must match number of input features\n",
    "n_hidden = 2                    # Number of hidden units \n",
    "n_output = 1                    # Number of output units\n",
    "\n",
    "# Weights for inputs to hidden layer\n",
    "W1 = torch.randn(n_input, n_hidden)\n",
    "# Weights for hidden layer to output layer\n",
    "W2 = torch.randn(n_hidden, n_output)\n",
    "\n",
    "# and bias terms for hidden and output layers\n",
    "B1 = torch.randn((1, n_hidden))\n",
    "B2 = torch.randn((1, n_output))"
   ]
  },
  {
   "cell_type": "markdown",
   "metadata": {},
   "source": [
    "> **Exercise:** Calculate the output for this multi-layer network using the weights `W1` & `W2`, and the biases, `B1` & `B2`. "
   ]
  },
  {
   "cell_type": "code",
   "execution_count": null,
   "metadata": {},
   "outputs": [],
   "source": [
    "## Your solution here\n"
   ]
  },
  {
   "cell_type": "markdown",
   "metadata": {},
   "source": [
    "If you did this correctly, you should see the output `tensor([[ 0.3171]])`.\n",
    "\n",
    "The number of hidden units are a parameter of the network, often called a **hyperparameter** to differentiate it from the weights and biases parameters. As you'll see later when we discuss training a neural network, the more hidden units a network has, and the more layers, the better able it is to learn from data and make accurate predictions."
   ]
  },
  {
   "cell_type": "markdown",
   "metadata": {},
   "source": [
    "## Numpy to Torch and back\n",
    "\n",
    "Special bonus section! PyTorch has a great feature for converting between Numpy arrays and Torch tensors. To create a tensor from a Numpy array, use `torch.from_numpy()`. To convert a tensor to a Numpy array, use the `.numpy()` method."
   ]
  },
  {
   "cell_type": "code",
   "execution_count": 8,
   "metadata": {},
   "outputs": [
    {
     "data": {
      "text/plain": [
       "array([[0.61995741, 0.33155467, 0.8174536 ],\n",
       "       [0.34563545, 0.15472967, 0.23112194],\n",
       "       [0.57911665, 0.7242849 , 0.41691137],\n",
       "       [0.68045155, 0.49653628, 0.32549209]])"
      ]
     },
     "execution_count": 8,
     "metadata": {},
     "output_type": "execute_result"
    }
   ],
   "source": [
    "import numpy as np\n",
    "np.set_printoptions(precision=8)\n",
    "a = np.random.rand(4,3)\n",
    "a"
   ]
  },
  {
   "cell_type": "code",
   "execution_count": 9,
   "metadata": {},
   "outputs": [
    {
     "data": {
      "text/plain": [
       "tensor([[0.61995741, 0.33155467, 0.81745360],\n",
       "        [0.34563545, 0.15472967, 0.23112194],\n",
       "        [0.57911665, 0.72428490, 0.41691137],\n",
       "        [0.68045155, 0.49653628, 0.32549209]], dtype=torch.float64)"
      ]
     },
     "execution_count": 9,
     "metadata": {},
     "output_type": "execute_result"
    }
   ],
   "source": [
    "torch.set_printoptions(precision=8)\n",
    "b = torch.from_numpy(a)\n",
    "b"
   ]
  },
  {
   "cell_type": "code",
   "execution_count": 10,
   "metadata": {},
   "outputs": [
    {
     "data": {
      "text/plain": [
       "array([[0.61995741, 0.33155467, 0.8174536 ],\n",
       "       [0.34563545, 0.15472967, 0.23112194],\n",
       "       [0.57911665, 0.7242849 , 0.41691137],\n",
       "       [0.68045155, 0.49653628, 0.32549209]])"
      ]
     },
     "execution_count": 10,
     "metadata": {},
     "output_type": "execute_result"
    }
   ],
   "source": [
    "b.numpy()"
   ]
  },
  {
   "cell_type": "markdown",
   "metadata": {},
   "source": [
    "The memory is shared between the Numpy array and Torch tensor, so if you change the values in-place of one object, the other will change as well."
   ]
  },
  {
   "cell_type": "code",
   "execution_count": 11,
   "metadata": {},
   "outputs": [
    {
     "data": {
      "text/plain": [
       "tensor([[1.23991482, 0.66310935, 1.63490719],\n",
       "        [0.69127089, 0.30945934, 0.46224388],\n",
       "        [1.15823331, 1.44856981, 0.83382274],\n",
       "        [1.36090309, 0.99307255, 0.65098418]], dtype=torch.float64)"
      ]
     },
     "execution_count": 11,
     "metadata": {},
     "output_type": "execute_result"
    }
   ],
   "source": [
    "# Multiply PyTorch Tensor by 2, in place\n",
    "b.mul_(2)"
   ]
  },
  {
   "cell_type": "code",
   "execution_count": 12,
   "metadata": {},
   "outputs": [
    {
     "data": {
      "text/plain": [
       "array([[1.23991482, 0.66310935, 1.63490719],\n",
       "       [0.69127089, 0.30945934, 0.46224388],\n",
       "       [1.15823331, 1.44856981, 0.83382274],\n",
       "       [1.36090309, 0.99307255, 0.65098418]])"
      ]
     },
     "execution_count": 12,
     "metadata": {},
     "output_type": "execute_result"
    }
   ],
   "source": [
    "# Numpy array matches new values from Tensor\n",
    "a"
   ]
  }
 ],
 "metadata": {
  "kernelspec": {
   "display_name": "Python 3 (ipykernel)",
   "language": "python",
   "name": "python3"
  },
  "language_info": {
   "codemirror_mode": {
    "name": "ipython",
    "version": 3
   },
   "file_extension": ".py",
   "mimetype": "text/x-python",
   "name": "python",
   "nbconvert_exporter": "python",
   "pygments_lexer": "ipython3",
   "version": "3.8.8"
  }
 },
 "nbformat": 4,
 "nbformat_minor": 2
}