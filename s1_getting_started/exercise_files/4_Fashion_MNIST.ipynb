{
 "cells": [
  {
   "cell_type": "markdown",
   "metadata": {
    "id": "k23gVCiL8vQ0"
   },
   "source": [
    "# Classifying Fashion-MNIST\n",
    "\n",
    "Now it's your turn to build and train a neural network. You'll be using the [Fashion-MNIST dataset](https://github.com/zalandoresearch/fashion-mnist), a drop-in replacement for the MNIST dataset. MNIST is actually quite trivial with neural networks where you can easily achieve better than 97% accuracy. Fashion-MNIST is a set of 28x28 greyscale images of clothes. It's more complex than MNIST, so it's a better representation of the actual performance of your network, and a better representation of datasets you'll use in the real world.\n",
    "\n",
    "<img src='assets/fashion-mnist-sprite.png' width=500px>\n",
    "\n",
    "In this notebook, you'll build your own neural network. For the most part, you could just copy and paste the code from Part 3, but you wouldn't be learning. It's important for you to write the code yourself and get it to work. Feel free to consult the previous notebooks though as you work through this.\n",
    "\n",
    "First off, let's load the dataset through torchvision."
   ]
  },
  {
   "cell_type": "code",
   "execution_count": 23,
   "metadata": {
    "id": "G_4K1YDb8vQ2"
   },
   "outputs": [],
   "source": [
    "%matplotlib inline\n",
    "import torch\n",
    "import torchvision\n",
    "from torchvision import datasets, transforms\n",
    "import helper\n",
    "\n",
    "import matplotlib.pyplot as plt\n",
    "import numpy as np\n",
    "import torchvision.transforms as transforms\n",
    "\n",
    "# Define a transform to normalize the data\n",
    "transform = transforms.Compose([transforms.ToTensor(),\n",
    "                                transforms.Normalize((0.5,), (0.5,))])\n",
    "# Download and load the training data\n",
    "trainset = datasets.FashionMNIST('~/.pytorch/F_MNIST_data/', download=True, train=True, transform=transform)\n",
    "trainloader = torch.utils.data.DataLoader(trainset, batch_size=64, shuffle=True)\n",
    "\n",
    "# Download and load the test data\n",
    "testset = datasets.FashionMNIST('~/.pytorch/F_MNIST_data/', download=True, train=False, transform=transform)\n",
    "testloader = torch.utils.data.DataLoader(testset, batch_size=64, shuffle=True)"
   ]
  },
  {
   "cell_type": "markdown",
   "metadata": {
    "id": "SS8QUNBb8vQ4"
   },
   "source": [
    "Here we can see one of the images."
   ]
  },
  {
   "cell_type": "code",
   "execution_count": 24,
   "metadata": {
    "colab": {
     "base_uri": "https://localhost:8080/",
     "height": 36
    },
    "id": "oUUqaxPd8vQ4",
    "outputId": "afdd2e92-bc64-4b34-a689-fdb2e5c951a1"
   },
   "outputs": [
    {
     "data": {
      "text/plain": "<Figure size 432x288 with 1 Axes>",
      "image/png": "[encoded data removed]"
     },
     "metadata": {
      "image/png": {
       "width": 231,
       "height": 231
      },
      "needs_background": "light"
     },
     "output_type": "display_data"
    }
   ],
   "source": [
    "\n",
    "image, label = next(iter(trainloader))\n",
    "helper.imshow(image[0,:]);\n"
   ]
  },
  {
   "cell_type": "markdown",
   "metadata": {
    "id": "4mvq8Wf58vQ5"
   },
   "source": [
    "## Building the network\n",
    "\n",
    "Here you should define your network. As with MNIST, each image is 28x28 which is a total of 784 pixels, and there are 10 classes. You should include at least one hidden layer. We suggest you use ReLU activations for the layers and to return the logits or log-softmax from the forward pass. It's up to you how many layers you add and the size of those layers."
   ]
  },
  {
   "cell_type": "code",
   "execution_count": 25,
   "metadata": {
    "colab": {
     "base_uri": "https://localhost:8080/"
    },
    "id": "W26_K9Je8vQ5",
    "outputId": "116265fd-b725-482e-d162-5eaebe4e1a16"
   },
   "outputs": [
    {
     "name": "stdout",
     "output_type": "stream",
     "text": [
      "Net(\n",
      "  (fc1): Linear(in_features=784, out_features=128, bias=True)\n",
      "  (fc2): Linear(in_features=128, out_features=64, bias=True)\n",
      "  (fc3): Linear(in_features=64, out_features=10, bias=True)\n",
      ")\n"
     ]
    }
   ],
   "source": [
    "# TODO: Define your network architecture here\n",
    "from torch.autograd import Variable\n",
    "import torch.nn as nn\n",
    "import torch.nn.functional as F\n",
    "from torch.nn import Conv2d, Dropout2d, Linear\n",
    "from torch.nn.functional import relu, softmax\n",
    "\n",
    "input_dim = 784\n",
    "num_l1 = 128\n",
    "num_l2 = 64\n",
    "out = 10\n",
    "\n",
    "class Net(nn.Module):\n",
    "    def __init__(self):\n",
    "        super(Net, self).__init__()\n",
    "\n",
    "        # set the fully connected layer:\n",
    "        self.fc1 = nn.Linear(input_dim,num_l1)\n",
    "        self.fc2 = nn.Linear(num_l1,num_l2)\n",
    "        self.fc3 = nn.Linear(num_l2,out)\n",
    "        \n",
    "\n",
    "    def forward(self, x):\n",
    "        x = F.relu(self.fc1(x))\n",
    "        x = F.relu(self.fc2(x))\n",
    "        x = F.softmax(self.fc3(x), dim = 1)\n",
    "\n",
    "        return x\n",
    "    \n",
    "\n",
    "net = Net()\n",
    "print(net)"
   ]
  },
  {
   "cell_type": "code",
   "source": [
    "# Define the loss\n",
    "model = Net()\n",
    "\n",
    "criterion = nn.CrossEntropyLoss()\n",
    "\n",
    "# Get our data\n",
    "dataiter = iter(trainloader)\n",
    "\n",
    "images, labels = next(dataiter)\n",
    "\n",
    "# Flatten images\n",
    "images = images.view(images.shape[0], -1)\n",
    "\n",
    "# Forward pass, get our logits\n",
    "logits = model(images)\n",
    "# Calculate the loss with the logits and the labels\n",
    "loss = criterion(logits, labels)\n",
    "\n",
    "print(loss)\n"
   ],
   "metadata": {
    "colab": {
     "base_uri": "https://localhost:8080/"
    },
    "id": "235hzCb8MlO7",
    "outputId": "0d7b1f13-0dbf-49cf-9a50-e4cce8dc97a0"
   },
   "execution_count": 26,
   "outputs": [
    {
     "name": "stdout",
     "output_type": "stream",
     "text": [
      "tensor(2.3044, grad_fn=<NllLossBackward0>)\n"
     ]
    }
   ]
  },
  {
   "cell_type": "markdown",
   "metadata": {
    "id": "EXBZT_lD8vQ5"
   },
   "source": [
    "# Train the network\n",
    "\n",
    "Now you should create your network and train it. First you'll want to define [the criterion](http://pytorch.org/docs/master/nn.html#loss-functions) ( something like `nn.CrossEntropyLoss`) and [the optimizer](http://pytorch.org/docs/master/optim.html) (typically `optim.SGD` or `optim.Adam`).\n",
    "\n",
    "Then write the training code. Remember the training pass is a fairly straightforward process:\n",
    "\n",
    "* Make a forward pass through the network to get the logits \n",
    "* Use the logits to calculate the loss\n",
    "* Perform a backward pass through the network with `loss.backward()` to calculate the gradients\n",
    "* Take a step with the optimizer to update the weights\n",
    "\n",
    "By adjusting the hyperparameters (hidden units, learning rate, etc), you should be able to get the training loss below 0.4."
   ]
  },
  {
   "cell_type": "code",
   "source": [
    "#set CUDA\n",
    "device = torch.device(\"cuda\" if torch.cuda.is_available() else \"cpu\")\n",
    "print(device)"
   ],
   "metadata": {
    "colab": {
     "base_uri": "https://localhost:8080/"
    },
    "id": "72G_sOdcApdu",
    "outputId": "0dc79bb3-2755-4557-e2b1-01c2587d7b68"
   },
   "execution_count": 27,
   "outputs": [
    {
     "name": "stdout",
     "output_type": "stream",
     "text": [
      "cpu\n"
     ]
    }
   ]
  },
  {
   "cell_type": "code",
   "source": [
    "import torch.optim as optim\n",
    "\n",
    "model = Net()\n",
    "criterion = nn.CrossEntropyLoss()\n",
    "optimizer = optim.SGD(model.parameters(), lr=0.003)"
   ],
   "metadata": {
    "id": "7uHzYvk0CXME"
   },
   "execution_count": 47,
   "outputs": []
  },
  {
   "cell_type": "code",
   "source": [
    "from sklearn.metrics import accuracy_score\n",
    "\n",
    "num_epoch = 14\n",
    "\n",
    "\n",
    "for epoch in range(num_epoch):  # loop over the dataset multiple times\n",
    "\n",
    "    running_loss = 0.0\n",
    "    model.train()\n",
    "    for i, data in enumerate(trainloader, 0):\n",
    "        # get the inputs\n",
    "        inputs, labels = data\n",
    "        inputs = inputs.view(inputs.shape[0], -1)\n",
    "\n",
    "        # wrap them in Variable\n",
    "\n",
    "        inputs, labels = Variable(inputs.to(device)), Variable(labels.to(device))\n",
    "        #inputs, labels = Variable(inputs), Variable(labels)\n",
    "\n",
    "        # zero the parameter gradients\n",
    "        optimizer.zero_grad()\n",
    "\n",
    "        # forward + backward + optimize\n",
    "        output = model(inputs)\n",
    "        loss = criterion(output, labels)\n",
    "\n",
    "        loss.backward()\n",
    "        optimizer.step()\n",
    "\n",
    "        # print statistics\n",
    "\n",
    "        running_loss += loss.item()\n",
    "        if i % 400 == 0:    # print every 400 mini-batches\n",
    "            print('[epoch %d, batch %5d] loss: %.3f' %\n",
    "                  (epoch + 1, i + 1, running_loss / 400))\n",
    "            print(loss.item())\n",
    "            running_loss = 0.0\n",
    "\n",
    "    #net.eval()\n",
    "\n",
    "print('Finished Training')"
   ],
   "metadata": {
    "colab": {
     "base_uri": "https://localhost:8080/"
    },
    "id": "rvtzuhvCesXr",
    "outputId": "86070b91-de70-4e47-d858-566b9aefd251"
   },
   "execution_count": 48,
   "outputs": [
    {
     "name": "stdout",
     "output_type": "stream",
     "text": [
      "[epoch 1, batch     1] loss: 0.006\n",
      "2.3013432025909424\n",
      "[epoch 1, batch   401] loss: 2.301\n",
      "2.2992711067199707\n",
      "[epoch 1, batch   801] loss: 2.295\n",
      "2.2923405170440674\n",
      "[epoch 2, batch     1] loss: 0.006\n",
      "2.2876594066619873\n",
      "[epoch 2, batch   401] loss: 2.285\n",
      "2.2841455936431885\n",
      "[epoch 2, batch   801] loss: 2.271\n",
      "2.2729198932647705\n",
      "[epoch 3, batch     1] loss: 0.006\n",
      "2.2619528770446777\n",
      "[epoch 3, batch   401] loss: 2.232\n",
      "2.2242324352264404\n",
      "[epoch 3, batch   801] loss: 2.194\n",
      "2.1930227279663086\n",
      "[epoch 4, batch     1] loss: 0.005\n",
      "2.1153504848480225\n",
      "[epoch 4, batch   401] loss: 2.141\n",
      "2.0998740196228027\n",
      "[epoch 4, batch   801] loss: 2.109\n",
      "2.080066680908203\n",
      "[epoch 5, batch     1] loss: 0.005\n",
      "2.052471160888672\n",
      "[epoch 5, batch   401] loss: 2.066\n",
      "2.099419116973877\n",
      "[epoch 5, batch   801] loss: 2.032\n",
      "2.0331509113311768\n",
      "[epoch 6, batch     1] loss: 0.005\n",
      "1.9685438871383667\n",
      "[epoch 6, batch   401] loss: 1.996\n",
      "1.984924077987671\n",
      "[epoch 6, batch   801] loss: 1.967\n",
      "1.9444962739944458\n",
      "[epoch 7, batch     1] loss: 0.005\n",
      "1.890345573425293\n",
      "[epoch 7, batch   401] loss: 1.931\n",
      "1.9294569492340088\n",
      "[epoch 7, batch   801] loss: 1.908\n",
      "1.9791115522384644\n",
      "[epoch 8, batch     1] loss: 0.005\n",
      "1.8980497121810913\n",
      "[epoch 8, batch   401] loss: 1.887\n",
      "1.940584421157837\n",
      "[epoch 8, batch   801] loss: 1.865\n",
      "1.880595326423645\n",
      "[epoch 9, batch     1] loss: 0.005\n",
      "1.876970648765564\n",
      "[epoch 9, batch   401] loss: 1.831\n",
      "1.8491312265396118\n",
      "[epoch 9, batch   801] loss: 1.814\n",
      "1.7794431447982788\n",
      "[epoch 10, batch     1] loss: 0.004\n",
      "1.7788646221160889\n",
      "[epoch 10, batch   401] loss: 1.787\n",
      "1.7778306007385254\n",
      "[epoch 10, batch   801] loss: 1.778\n",
      "1.7363934516906738\n",
      "[epoch 11, batch     1] loss: 0.004\n",
      "1.7625348567962646\n",
      "[epoch 11, batch   401] loss: 1.764\n",
      "1.6663427352905273\n",
      "[epoch 11, batch   801] loss: 1.756\n",
      "1.765028476715088\n",
      "[epoch 12, batch     1] loss: 0.004\n",
      "1.7697278261184692\n",
      "[epoch 12, batch   401] loss: 1.750\n",
      "1.7444329261779785\n",
      "[epoch 12, batch   801] loss: 1.740\n",
      "1.7074600458145142\n",
      "[epoch 13, batch     1] loss: 0.004\n",
      "1.7307125329971313\n",
      "[epoch 13, batch   401] loss: 1.740\n",
      "1.6487951278686523\n",
      "[epoch 13, batch   801] loss: 1.730\n",
      "1.7744786739349365\n",
      "[epoch 14, batch     1] loss: 0.004\n",
      "1.7681715488433838\n",
      "[epoch 14, batch   401] loss: 1.729\n",
      "1.7150460481643677\n",
      "[epoch 14, batch   801] loss: 1.723\n",
      "1.8029208183288574\n",
      "Finished Training\n"
     ]
    }
   ]
  },
  {
   "cell_type": "code",
   "execution_count": 51,
   "metadata": {
    "id": "4SMgwQ838vQ7"
   },
   "outputs": [
    {
     "data": {
      "text/plain": "<Figure size 432x648 with 2 Axes>",
      "image/png": "[encoded data removed]"
     },
     "metadata": {
      "image/png": {
       "width": 424,
       "height": 216
      },
      "needs_background": "light"
     },
     "output_type": "display_data"
    }
   ],
   "source": [
    "%matplotlib inline\n",
    "%config InlineBackend.figure_format = 'retina'\n",
    "\n",
    "import helper\n",
    "\n",
    "# Test out your network!\n",
    "\n",
    "dataiter = iter(testloader)\n",
    "images, labels = dataiter.next()\n",
    "img = images[0]\n",
    "# Convert 2D image to 1D vector\n",
    "img = img.resize_(1, 784)\n",
    "\n",
    "\n",
    "with torch.no_grad():\n",
    "    logps = model(img)\n",
    "\n",
    "# Output of the network are log-probabilities, need to take exponential for probabilities\n",
    "ps = torch.exp(logps)\n",
    "\n",
    "# Plot the image and probabilities\n",
    "helper.view_classify(img.resize_(1, 28, 28), ps, version='Fashion')"
   ]
  },
  {
   "cell_type": "code",
   "execution_count": null,
   "outputs": [],
   "source": [
    ""
   ],
   "metadata": {
    "pycharm": {
     "name": "#%%\n"
    },
    "id": "lFyvzhyjWtUQ"
   }
  }
 ],
 "metadata": {
  "kernelspec": {
   "display_name": "Python 3",
   "language": "python",
   "name": "python3"
  },
  "language_info": {
   "codemirror_mode": {
    "name": "ipython",
    "version": 3
   },
   "file_extension": ".py",
   "mimetype": "text/x-python",
   "name": "python",
   "nbconvert_exporter": "python",
   "pygments_lexer": "ipython3",
   "version": "3.6.7"
  },
  "colab": {
   "name": "4_Fashion_MNIST.ipynb",
   "provenance": [],
   "collapsed_sections": []
  }
 },
 "nbformat": 4,
 "nbformat_minor": 0
}